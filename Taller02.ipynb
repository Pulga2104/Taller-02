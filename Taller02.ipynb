{
 "cells": [
  {
   "cell_type": "markdown",
   "id": "e45cdb31",
   "metadata": {},
   "source": [
    "# Taller 02\n",
    "\n",
    " Nombre: Josue Steven Calvopiña Machuca\n",
    "\n",
    " Grupo: 1CC\n",
    " \n",
    " Fecha: 28/10/2025"
   ]
  }
 ],
 "metadata": {
  "language_info": {
   "name": "python"
  }
 },
 "nbformat": 4,
 "nbformat_minor": 5
}
